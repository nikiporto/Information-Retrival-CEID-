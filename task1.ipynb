{
 "cells": [
  {
   "cell_type": "markdown",
   "metadata": {},
   "source": [
    "# IMPORTING MODULES "
   ]
  },
  {
   "cell_type": "code",
   "execution_count": 1,
   "metadata": {},
   "outputs": [
    {
     "name": "stdout",
     "output_type": "stream",
     "text": [
      "Loaded.....\n"
     ]
    }
   ],
   "source": [
    "try:\n",
    "    from elasticsearch import Elasticsearch\n",
    "    import pandas as pd\n",
    "    import json \n",
    "    from elasticsearch import helpers \n",
    "    import warnings\n",
    "    warnings.filterwarnings(\"ignore\")\n",
    "    print(\"Loaded.....\")    \n",
    "except Exception as e:\n",
    "    \n",
    "    print(\"Some modules are missing{}\".format(e))"
   ]
  },
  {
   "cell_type": "markdown",
   "metadata": {},
   "source": [
    "# READING FILE"
   ]
  },
  {
   "cell_type": "code",
   "execution_count": 2,
   "metadata": {},
   "outputs": [],
   "source": [
    "df=pd.read_csv(\"movies.csv\")\n",
    "df1=df.to_dict(\"records\")"
   ]
  },
  {
   "cell_type": "code",
   "execution_count": 3,
   "metadata": {},
   "outputs": [
    {
     "data": {
      "text/html": [
       "<div>\n",
       "<style scoped>\n",
       "    .dataframe tbody tr th:only-of-type {\n",
       "        vertical-align: middle;\n",
       "    }\n",
       "\n",
       "    .dataframe tbody tr th {\n",
       "        vertical-align: top;\n",
       "    }\n",
       "\n",
       "    .dataframe thead th {\n",
       "        text-align: right;\n",
       "    }\n",
       "</style>\n",
       "<table border=\"1\" class=\"dataframe\">\n",
       "  <thead>\n",
       "    <tr style=\"text-align: right;\">\n",
       "      <th></th>\n",
       "      <th>movieId</th>\n",
       "      <th>title</th>\n",
       "      <th>genres</th>\n",
       "    </tr>\n",
       "  </thead>\n",
       "  <tbody>\n",
       "    <tr>\n",
       "      <th>0</th>\n",
       "      <td>1</td>\n",
       "      <td>Toy Story (1995)</td>\n",
       "      <td>Adventure|Animation|Children|Comedy|Fantasy</td>\n",
       "    </tr>\n",
       "    <tr>\n",
       "      <th>1</th>\n",
       "      <td>2</td>\n",
       "      <td>Jumanji (1995)</td>\n",
       "      <td>Adventure|Children|Fantasy</td>\n",
       "    </tr>\n",
       "    <tr>\n",
       "      <th>2</th>\n",
       "      <td>3</td>\n",
       "      <td>Grumpier Old Men (1995)</td>\n",
       "      <td>Comedy|Romance</td>\n",
       "    </tr>\n",
       "    <tr>\n",
       "      <th>3</th>\n",
       "      <td>4</td>\n",
       "      <td>Waiting to Exhale (1995)</td>\n",
       "      <td>Comedy|Drama|Romance</td>\n",
       "    </tr>\n",
       "    <tr>\n",
       "      <th>4</th>\n",
       "      <td>5</td>\n",
       "      <td>Father of the Bride Part II (1995)</td>\n",
       "      <td>Comedy</td>\n",
       "    </tr>\n",
       "    <tr>\n",
       "      <th>...</th>\n",
       "      <td>...</td>\n",
       "      <td>...</td>\n",
       "      <td>...</td>\n",
       "    </tr>\n",
       "    <tr>\n",
       "      <th>9120</th>\n",
       "      <td>162672</td>\n",
       "      <td>Mohenjo Daro (2016)</td>\n",
       "      <td>Adventure|Drama|Romance</td>\n",
       "    </tr>\n",
       "    <tr>\n",
       "      <th>9121</th>\n",
       "      <td>163056</td>\n",
       "      <td>Shin Godzilla (2016)</td>\n",
       "      <td>Action|Adventure|Fantasy|Sci-Fi</td>\n",
       "    </tr>\n",
       "    <tr>\n",
       "      <th>9122</th>\n",
       "      <td>163949</td>\n",
       "      <td>The Beatles: Eight Days a Week - The Touring Y...</td>\n",
       "      <td>Documentary</td>\n",
       "    </tr>\n",
       "    <tr>\n",
       "      <th>9123</th>\n",
       "      <td>164977</td>\n",
       "      <td>The Gay Desperado (1936)</td>\n",
       "      <td>Comedy</td>\n",
       "    </tr>\n",
       "    <tr>\n",
       "      <th>9124</th>\n",
       "      <td>164979</td>\n",
       "      <td>Women of '69, Unboxed</td>\n",
       "      <td>Documentary</td>\n",
       "    </tr>\n",
       "  </tbody>\n",
       "</table>\n",
       "<p>9125 rows × 3 columns</p>\n",
       "</div>"
      ],
      "text/plain": [
       "      movieId                                              title  \\\n",
       "0           1                                   Toy Story (1995)   \n",
       "1           2                                     Jumanji (1995)   \n",
       "2           3                            Grumpier Old Men (1995)   \n",
       "3           4                           Waiting to Exhale (1995)   \n",
       "4           5                 Father of the Bride Part II (1995)   \n",
       "...       ...                                                ...   \n",
       "9120   162672                                Mohenjo Daro (2016)   \n",
       "9121   163056                               Shin Godzilla (2016)   \n",
       "9122   163949  The Beatles: Eight Days a Week - The Touring Y...   \n",
       "9123   164977                           The Gay Desperado (1936)   \n",
       "9124   164979                              Women of '69, Unboxed   \n",
       "\n",
       "                                           genres  \n",
       "0     Adventure|Animation|Children|Comedy|Fantasy  \n",
       "1                      Adventure|Children|Fantasy  \n",
       "2                                  Comedy|Romance  \n",
       "3                            Comedy|Drama|Romance  \n",
       "4                                          Comedy  \n",
       "...                                           ...  \n",
       "9120                      Adventure|Drama|Romance  \n",
       "9121              Action|Adventure|Fantasy|Sci-Fi  \n",
       "9122                                  Documentary  \n",
       "9123                                       Comedy  \n",
       "9124                                  Documentary  \n",
       "\n",
       "[9125 rows x 3 columns]"
      ]
     },
     "execution_count": 3,
     "metadata": {},
     "output_type": "execute_result"
    }
   ],
   "source": [
    "df"
   ]
  },
  {
   "cell_type": "code",
   "execution_count": 4,
   "metadata": {},
   "outputs": [],
   "source": [
    "ENDPOINT= \"http://localhost:9200/\"\n",
    "es=Elasticsearch(timeout=600,hosts=ENDPOINT)"
   ]
  },
  {
   "cell_type": "markdown",
   "metadata": {},
   "source": [
    "# CONVERTING TO ELK FORMAT"
   ]
  },
  {
   "cell_type": "code",
   "execution_count": 5,
   "metadata": {},
   "outputs": [],
   "source": [
    "def generator(df1):\n",
    "    for c,line in enumerate(df1):\n",
    "        yield{\n",
    "         '_index':'movies',\n",
    "         '_type' :'_doc',\n",
    "         '_id':line.get('movieId'),\n",
    "         '_source':{\n",
    "             'title':line.get('title',[\"No Data\"]),\n",
    "             'genres':line.get('genres',[\"No Data\"])\n",
    "                    }\n",
    "             } \n",
    "      \n",
    "gen=generator(df1)\n"
   ]
  },
  {
   "cell_type": "code",
   "execution_count": 6,
   "metadata": {
    "scrolled": true
   },
   "outputs": [
    {
     "data": {
      "text/plain": [
       "{'_index': 'movies',\n",
       " '_type': '_doc',\n",
       " '_id': 1,\n",
       " '_source': {'title': 'Toy Story (1995)',\n",
       "  'genres': 'Adventure|Animation|Children|Comedy|Fantasy'}}"
      ]
     },
     "execution_count": 6,
     "metadata": {},
     "output_type": "execute_result"
    }
   ],
   "source": [
    "next(gen)"
   ]
  },
  {
   "cell_type": "markdown",
   "metadata": {},
   "source": [
    "# Settings and Mappings\n",
    "\n"
   ]
  },
  {
   "cell_type": "code",
   "execution_count": 7,
   "metadata": {},
   "outputs": [],
   "source": [
    "settings = {\n",
    "    'settings': {\n",
    "            'number_of_shards': 1,\n",
    "            'number_of_replicas': 1,\n",
    "            \"similarity\": {\n",
    "             \"custom_bm25\": {\n",
    "                \"type\": \"BM25\",\n",
    "                \"b\": 0,\n",
    "                \"k1\" : 0.9\n",
    "             }\n",
    "          }\n",
    "                \n",
    "            }\n",
    "    ,\n",
    "    \n",
    "    'mappings': {\n",
    "        \n",
    "            'properties': {\n",
    "                'title': {\n",
    "                    'type': 'text',\n",
    "                    'analyzer': 'english'\n",
    "                },\n",
    "                \"genres\":{\n",
    "                    \"type\": 'text',\n",
    "                    'analyzer':'english'\n",
    "                }\n",
    "            }\n",
    "        }\n",
    "    }"
   ]
  },
  {
   "cell_type": "code",
   "execution_count": 8,
   "metadata": {},
   "outputs": [],
   "source": [
    "my=es.indices.create(index=\"movies\",ignore=[400,404],body=settings)"
   ]
  },
  {
   "cell_type": "code",
   "execution_count": 9,
   "metadata": {},
   "outputs": [
    {
     "data": {
      "text/plain": [
       "{'error': {'root_cause': [{'type': 'resource_already_exists_exception',\n",
       "    'reason': 'index [movies/-T4beOfJSz2XamYDmXaMLA] already exists',\n",
       "    'index_uuid': '-T4beOfJSz2XamYDmXaMLA',\n",
       "    'index': 'movies'}],\n",
       "  'type': 'resource_already_exists_exception',\n",
       "  'reason': 'index [movies/-T4beOfJSz2XamYDmXaMLA] already exists',\n",
       "  'index_uuid': '-T4beOfJSz2XamYDmXaMLA',\n",
       "  'index': 'movies'},\n",
       " 'status': 400}"
      ]
     },
     "execution_count": 9,
     "metadata": {},
     "output_type": "execute_result"
    }
   ],
   "source": [
    "my"
   ]
  },
  {
   "cell_type": "markdown",
   "metadata": {},
   "source": [
    "# UPLOAD TO ES "
   ]
  },
  {
   "cell_type": "code",
   "execution_count": 13,
   "metadata": {},
   "outputs": [
    {
     "name": "stdout",
     "output_type": "stream",
     "text": [
      "Working\n"
     ]
    }
   ],
   "source": [
    "try:\n",
    "    res=helpers.bulk(es,generator(df1))\n",
    "    print(\"Working\")\n",
    "except Exception as e:\n",
    "    print(\"Done\")"
   ]
  },
  {
   "cell_type": "markdown",
   "metadata": {},
   "source": [
    "# USER QUERY"
   ]
  },
  {
   "cell_type": "code",
   "execution_count": 12,
   "metadata": {},
   "outputs": [
    {
     "name": "stdout",
     "output_type": "stream",
     "text": [
      "What are you looking for?batman\n",
      "total hits: 12 \n",
      "\n",
      "Batman (1989) \n",
      "Action|Crime|Thriller\n",
      "\n",
      "Batman (1966) \n",
      "Action|Adventure|Comedy\n",
      "\n",
      "Batman Forever (1995) \n",
      "Action|Adventure|Comedy|Crime\n",
      "\n",
      "Batman Returns (1992) \n",
      "Action|Crime\n",
      "\n",
      "Batman & Robin (1997) \n",
      "Action|Adventure|Fantasy|Thriller\n",
      "\n",
      "Batman Begins (2005) \n",
      "Action|Crime|IMAX\n",
      "\n",
      "Batman: Mask of the Phantasm (1993) \n",
      "Animation|Children\n",
      "\n",
      "Batman: Year One (2011) \n",
      "Action|Animation|Crime\n",
      "\n",
      "Batman: Under the Red Hood (2010) \n",
      "Action|Animation\n",
      "\n",
      "Batman v Superman: Dawn of Justice (2016) \n",
      "Action|Adventure|Fantasy|Sci-Fi\n",
      "\n",
      "Batman: The Dark Knight Returns, Part 1 (2012) \n",
      "Action|Animation|Sci-Fi\n",
      "\n",
      "Batman: The Dark Knight Returns, Part 2 (2013) \n",
      "Action|Animation\n",
      "\n"
     ]
    }
   ],
   "source": [
    "user_request=input(\"What are you looking for?\")\n",
    "query_body = {\n",
    "  \"query\": {\n",
    "      \"multi_match\":{\n",
    "          \"query\":user_request,\n",
    "          \"fields\":[\"title\" ,\"genres\"]\n",
    "      }\n",
    "  }\n",
    "}\n",
    "\n",
    "\n",
    "# Pass the query dictionary to the 'body' parameter of the\n",
    "# client's Search() method, and have it return results:\n",
    "result = es.search(index=\"movies\", body=query_body,size=10000,)\n",
    "print (\"total hits:\", len(result[\"hits\"][\"hits\"]),\"\\n\")\n",
    "\n",
    "#result     for full info about the results\n",
    "\n",
    "for i in result['hits']['hits']:\n",
    "    print(i['_source']['title']+\" \"+\"\\n\"+i['_source']['genres']+\"\\n\")"
   ]
  }
 ],
 "metadata": {
  "kernelspec": {
   "display_name": "Python 3",
   "language": "python",
   "name": "python3"
  },
  "language_info": {
   "codemirror_mode": {
    "name": "ipython",
    "version": 3
   },
   "file_extension": ".py",
   "mimetype": "text/x-python",
   "name": "python",
   "nbconvert_exporter": "python",
   "pygments_lexer": "ipython3",
   "version": "3.8.3"
  }
 },
 "nbformat": 4,
 "nbformat_minor": 4
}
