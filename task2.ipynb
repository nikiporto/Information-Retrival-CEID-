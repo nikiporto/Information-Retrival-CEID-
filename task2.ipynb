{
 "cells": [
  {
   "cell_type": "code",
   "execution_count": 1,
   "metadata": {},
   "outputs": [
    {
     "name": "stdout",
     "output_type": "stream",
     "text": [
      "Loaded.....\n"
     ]
    }
   ],
   "source": [
    "try:\n",
    "    from elasticsearch import Elasticsearch\n",
    "    import pandas as pd\n",
    "    import json \n",
    "    from elasticsearch import helpers \n",
    "    import warnings\n",
    "    warnings.filterwarnings(\"ignore\")\n",
    "    print(\"Loaded.....\")   \n",
    "except Exception as e:\n",
    "    \n",
    "    print(\"Some modules are missing{}\".format(e))"
   ]
  },
  {
   "cell_type": "code",
   "execution_count": 2,
   "metadata": {},
   "outputs": [],
   "source": [
    "df=pd.read_csv(\"movies.csv\")\n",
    "df1=df.to_dict(\"records\")\n",
    "df2=pd.read_csv(\"ratings.csv\")"
   ]
  },
  {
   "cell_type": "code",
   "execution_count": 3,
   "metadata": {},
   "outputs": [],
   "source": [
    "ENDPOINT= \"http://localhost:9200/\"\n",
    "es=Elasticsearch(timeout=600,hosts=ENDPOINT)"
   ]
  },
  {
   "cell_type": "markdown",
   "metadata": {},
   "source": [
    "# DATAFRAME MANIPULATION"
   ]
  },
  {
   "cell_type": "code",
   "execution_count": 4,
   "metadata": {},
   "outputs": [
    {
     "data": {
      "text/plain": [
       "movieId\n",
       "1         3.872470\n",
       "2         3.401869\n",
       "3         3.161017\n",
       "4         2.384615\n",
       "5         3.267857\n",
       "            ...   \n",
       "161944    5.000000\n",
       "162376    4.500000\n",
       "162542    5.000000\n",
       "162672    3.000000\n",
       "163949    5.000000\n",
       "Name: rating, Length: 9066, dtype: float64"
      ]
     },
     "execution_count": 4,
     "metadata": {},
     "output_type": "execute_result"
    }
   ],
   "source": [
    "df4=df2.groupby(['movieId'])['rating'].mean()\n",
    "df4"
   ]
  },
  {
   "cell_type": "code",
   "execution_count": 5,
   "metadata": {},
   "outputs": [
    {
     "data": {
      "text/html": [
       "<div>\n",
       "<style scoped>\n",
       "    .dataframe tbody tr th:only-of-type {\n",
       "        vertical-align: middle;\n",
       "    }\n",
       "\n",
       "    .dataframe tbody tr th {\n",
       "        vertical-align: top;\n",
       "    }\n",
       "\n",
       "    .dataframe thead th {\n",
       "        text-align: right;\n",
       "    }\n",
       "</style>\n",
       "<table border=\"1\" class=\"dataframe\">\n",
       "  <thead>\n",
       "    <tr style=\"text-align: right;\">\n",
       "      <th></th>\n",
       "      <th>movieId</th>\n",
       "      <th>title</th>\n",
       "      <th>genres</th>\n",
       "      <th>rating</th>\n",
       "    </tr>\n",
       "  </thead>\n",
       "  <tbody>\n",
       "    <tr>\n",
       "      <th>0</th>\n",
       "      <td>1</td>\n",
       "      <td>Toy Story (1995)</td>\n",
       "      <td>Adventure|Animation|Children|Comedy|Fantasy</td>\n",
       "      <td>3.872470</td>\n",
       "    </tr>\n",
       "    <tr>\n",
       "      <th>1</th>\n",
       "      <td>2</td>\n",
       "      <td>Jumanji (1995)</td>\n",
       "      <td>Adventure|Children|Fantasy</td>\n",
       "      <td>3.401869</td>\n",
       "    </tr>\n",
       "    <tr>\n",
       "      <th>2</th>\n",
       "      <td>3</td>\n",
       "      <td>Grumpier Old Men (1995)</td>\n",
       "      <td>Comedy|Romance</td>\n",
       "      <td>3.161017</td>\n",
       "    </tr>\n",
       "    <tr>\n",
       "      <th>3</th>\n",
       "      <td>4</td>\n",
       "      <td>Waiting to Exhale (1995)</td>\n",
       "      <td>Comedy|Drama|Romance</td>\n",
       "      <td>2.384615</td>\n",
       "    </tr>\n",
       "    <tr>\n",
       "      <th>4</th>\n",
       "      <td>5</td>\n",
       "      <td>Father of the Bride Part II (1995)</td>\n",
       "      <td>Comedy</td>\n",
       "      <td>3.267857</td>\n",
       "    </tr>\n",
       "    <tr>\n",
       "      <th>...</th>\n",
       "      <td>...</td>\n",
       "      <td>...</td>\n",
       "      <td>...</td>\n",
       "      <td>...</td>\n",
       "    </tr>\n",
       "    <tr>\n",
       "      <th>9120</th>\n",
       "      <td>162672</td>\n",
       "      <td>Mohenjo Daro (2016)</td>\n",
       "      <td>Adventure|Drama|Romance</td>\n",
       "      <td>3.000000</td>\n",
       "    </tr>\n",
       "    <tr>\n",
       "      <th>9121</th>\n",
       "      <td>163056</td>\n",
       "      <td>Shin Godzilla (2016)</td>\n",
       "      <td>Action|Adventure|Fantasy|Sci-Fi</td>\n",
       "      <td>NaN</td>\n",
       "    </tr>\n",
       "    <tr>\n",
       "      <th>9122</th>\n",
       "      <td>163949</td>\n",
       "      <td>The Beatles: Eight Days a Week - The Touring Y...</td>\n",
       "      <td>Documentary</td>\n",
       "      <td>5.000000</td>\n",
       "    </tr>\n",
       "    <tr>\n",
       "      <th>9123</th>\n",
       "      <td>164977</td>\n",
       "      <td>The Gay Desperado (1936)</td>\n",
       "      <td>Comedy</td>\n",
       "      <td>NaN</td>\n",
       "    </tr>\n",
       "    <tr>\n",
       "      <th>9124</th>\n",
       "      <td>164979</td>\n",
       "      <td>Women of '69, Unboxed</td>\n",
       "      <td>Documentary</td>\n",
       "      <td>NaN</td>\n",
       "    </tr>\n",
       "  </tbody>\n",
       "</table>\n",
       "<p>9125 rows × 4 columns</p>\n",
       "</div>"
      ],
      "text/plain": [
       "      movieId                                              title  \\\n",
       "0           1                                   Toy Story (1995)   \n",
       "1           2                                     Jumanji (1995)   \n",
       "2           3                            Grumpier Old Men (1995)   \n",
       "3           4                           Waiting to Exhale (1995)   \n",
       "4           5                 Father of the Bride Part II (1995)   \n",
       "...       ...                                                ...   \n",
       "9120   162672                                Mohenjo Daro (2016)   \n",
       "9121   163056                               Shin Godzilla (2016)   \n",
       "9122   163949  The Beatles: Eight Days a Week - The Touring Y...   \n",
       "9123   164977                           The Gay Desperado (1936)   \n",
       "9124   164979                              Women of '69, Unboxed   \n",
       "\n",
       "                                           genres    rating  \n",
       "0     Adventure|Animation|Children|Comedy|Fantasy  3.872470  \n",
       "1                      Adventure|Children|Fantasy  3.401869  \n",
       "2                                  Comedy|Romance  3.161017  \n",
       "3                            Comedy|Drama|Romance  2.384615  \n",
       "4                                          Comedy  3.267857  \n",
       "...                                           ...       ...  \n",
       "9120                      Adventure|Drama|Romance  3.000000  \n",
       "9121              Action|Adventure|Fantasy|Sci-Fi       NaN  \n",
       "9122                                  Documentary  5.000000  \n",
       "9123                                       Comedy       NaN  \n",
       "9124                                  Documentary       NaN  \n",
       "\n",
       "[9125 rows x 4 columns]"
      ]
     },
     "execution_count": 5,
     "metadata": {},
     "output_type": "execute_result"
    }
   ],
   "source": [
    "df5=pd.merge(df,df4,on=\"movieId\",how=\"outer\")\n",
    "df5"
   ]
  },
  {
   "cell_type": "code",
   "execution_count": 6,
   "metadata": {},
   "outputs": [
    {
     "name": "stdout",
     "output_type": "stream",
     "text": [
      "Tell me your user Id1\n"
     ]
    }
   ],
   "source": [
    "which_user=int(input(\"Tell me your user Id\"))"
   ]
  },
  {
   "cell_type": "code",
   "execution_count": 32,
   "metadata": {},
   "outputs": [],
   "source": [
    "df6=df2[(df2[\"userId\"]==which_user)]\n",
    "df6.rename(columns={'rating': 'user_rating'}, inplace=True)\n",
    "df6.drop(\"timestamp\",axis=1,inplace=True)\n",
    "df6.drop(\"userId\",axis=1,inplace=True)"
   ]
  },
  {
   "cell_type": "code",
   "execution_count": 8,
   "metadata": {},
   "outputs": [
    {
     "data": {
      "text/html": [
       "<div>\n",
       "<style scoped>\n",
       "    .dataframe tbody tr th:only-of-type {\n",
       "        vertical-align: middle;\n",
       "    }\n",
       "\n",
       "    .dataframe tbody tr th {\n",
       "        vertical-align: top;\n",
       "    }\n",
       "\n",
       "    .dataframe thead th {\n",
       "        text-align: right;\n",
       "    }\n",
       "</style>\n",
       "<table border=\"1\" class=\"dataframe\">\n",
       "  <thead>\n",
       "    <tr style=\"text-align: right;\">\n",
       "      <th></th>\n",
       "      <th>movieId</th>\n",
       "      <th>title</th>\n",
       "      <th>genres</th>\n",
       "      <th>rating</th>\n",
       "      <th>user_rating</th>\n",
       "    </tr>\n",
       "  </thead>\n",
       "  <tbody>\n",
       "    <tr>\n",
       "      <th>0</th>\n",
       "      <td>1</td>\n",
       "      <td>Toy Story (1995)</td>\n",
       "      <td>Adventure|Animation|Children|Comedy|Fantasy</td>\n",
       "      <td>3.872470</td>\n",
       "      <td>0.0</td>\n",
       "    </tr>\n",
       "    <tr>\n",
       "      <th>1</th>\n",
       "      <td>2</td>\n",
       "      <td>Jumanji (1995)</td>\n",
       "      <td>Adventure|Children|Fantasy</td>\n",
       "      <td>3.401869</td>\n",
       "      <td>0.0</td>\n",
       "    </tr>\n",
       "    <tr>\n",
       "      <th>2</th>\n",
       "      <td>3</td>\n",
       "      <td>Grumpier Old Men (1995)</td>\n",
       "      <td>Comedy|Romance</td>\n",
       "      <td>3.161017</td>\n",
       "      <td>0.0</td>\n",
       "    </tr>\n",
       "    <tr>\n",
       "      <th>3</th>\n",
       "      <td>4</td>\n",
       "      <td>Waiting to Exhale (1995)</td>\n",
       "      <td>Comedy|Drama|Romance</td>\n",
       "      <td>2.384615</td>\n",
       "      <td>0.0</td>\n",
       "    </tr>\n",
       "    <tr>\n",
       "      <th>4</th>\n",
       "      <td>5</td>\n",
       "      <td>Father of the Bride Part II (1995)</td>\n",
       "      <td>Comedy</td>\n",
       "      <td>3.267857</td>\n",
       "      <td>0.0</td>\n",
       "    </tr>\n",
       "    <tr>\n",
       "      <th>...</th>\n",
       "      <td>...</td>\n",
       "      <td>...</td>\n",
       "      <td>...</td>\n",
       "      <td>...</td>\n",
       "      <td>...</td>\n",
       "    </tr>\n",
       "    <tr>\n",
       "      <th>9120</th>\n",
       "      <td>162672</td>\n",
       "      <td>Mohenjo Daro (2016)</td>\n",
       "      <td>Adventure|Drama|Romance</td>\n",
       "      <td>3.000000</td>\n",
       "      <td>0.0</td>\n",
       "    </tr>\n",
       "    <tr>\n",
       "      <th>9121</th>\n",
       "      <td>163056</td>\n",
       "      <td>Shin Godzilla (2016)</td>\n",
       "      <td>Action|Adventure|Fantasy|Sci-Fi</td>\n",
       "      <td>0.000000</td>\n",
       "      <td>0.0</td>\n",
       "    </tr>\n",
       "    <tr>\n",
       "      <th>9122</th>\n",
       "      <td>163949</td>\n",
       "      <td>The Beatles: Eight Days a Week - The Touring Y...</td>\n",
       "      <td>Documentary</td>\n",
       "      <td>5.000000</td>\n",
       "      <td>0.0</td>\n",
       "    </tr>\n",
       "    <tr>\n",
       "      <th>9123</th>\n",
       "      <td>164977</td>\n",
       "      <td>The Gay Desperado (1936)</td>\n",
       "      <td>Comedy</td>\n",
       "      <td>0.000000</td>\n",
       "      <td>0.0</td>\n",
       "    </tr>\n",
       "    <tr>\n",
       "      <th>9124</th>\n",
       "      <td>164979</td>\n",
       "      <td>Women of '69, Unboxed</td>\n",
       "      <td>Documentary</td>\n",
       "      <td>0.000000</td>\n",
       "      <td>0.0</td>\n",
       "    </tr>\n",
       "  </tbody>\n",
       "</table>\n",
       "<p>9125 rows × 5 columns</p>\n",
       "</div>"
      ],
      "text/plain": [
       "      movieId                                              title  \\\n",
       "0           1                                   Toy Story (1995)   \n",
       "1           2                                     Jumanji (1995)   \n",
       "2           3                            Grumpier Old Men (1995)   \n",
       "3           4                           Waiting to Exhale (1995)   \n",
       "4           5                 Father of the Bride Part II (1995)   \n",
       "...       ...                                                ...   \n",
       "9120   162672                                Mohenjo Daro (2016)   \n",
       "9121   163056                               Shin Godzilla (2016)   \n",
       "9122   163949  The Beatles: Eight Days a Week - The Touring Y...   \n",
       "9123   164977                           The Gay Desperado (1936)   \n",
       "9124   164979                              Women of '69, Unboxed   \n",
       "\n",
       "                                           genres    rating  user_rating  \n",
       "0     Adventure|Animation|Children|Comedy|Fantasy  3.872470          0.0  \n",
       "1                      Adventure|Children|Fantasy  3.401869          0.0  \n",
       "2                                  Comedy|Romance  3.161017          0.0  \n",
       "3                            Comedy|Drama|Romance  2.384615          0.0  \n",
       "4                                          Comedy  3.267857          0.0  \n",
       "...                                           ...       ...          ...  \n",
       "9120                      Adventure|Drama|Romance  3.000000          0.0  \n",
       "9121              Action|Adventure|Fantasy|Sci-Fi  0.000000          0.0  \n",
       "9122                                  Documentary  5.000000          0.0  \n",
       "9123                                       Comedy  0.000000          0.0  \n",
       "9124                                  Documentary  0.000000          0.0  \n",
       "\n",
       "[9125 rows x 5 columns]"
      ]
     },
     "execution_count": 8,
     "metadata": {},
     "output_type": "execute_result"
    }
   ],
   "source": [
    "df7=pd.merge(df5,df6,on=\"movieId\", how=\"outer\")\n",
    "df7=df7.fillna(0)\n",
    "df7"
   ]
  },
  {
   "cell_type": "markdown",
   "metadata": {},
   "source": [
    "# DATAFRAME TO JSON"
   ]
  },
  {
   "cell_type": "code",
   "execution_count": 9,
   "metadata": {},
   "outputs": [],
   "source": [
    "df8=df7.to_dict(\"records\")\n",
    "\n",
    "def generator2(df8):\n",
    "    for c,line in enumerate(df8):\n",
    "        yield{\n",
    "         '_index':'df8',\n",
    "         '_type' :'_doc',\n",
    "         '_id':line.get('movieId'),\n",
    "         '_source':{\n",
    "             'title':line.get('title',[\"No Data\"]),\n",
    "             'genres':line.get('genres',[\"No Data\"]),\n",
    "             'rating':line.get('rating',[\"No Data\"]),\n",
    "             'user_rating':line.get('user_rating',[\"No Data\"])\n",
    "                }\n",
    "             } \n",
    "      #  raise StopIteration\n",
    "    gen2=generator2(df8)"
   ]
  },
  {
   "cell_type": "markdown",
   "metadata": {},
   "source": [
    "# Mappings and Settings"
   ]
  },
  {
   "cell_type": "code",
   "execution_count": 10,
   "metadata": {},
   "outputs": [],
   "source": [
    " settings = {\n",
    "    'settings': {\n",
    "            'number_of_shards': 1,\n",
    "            'number_of_replicas': 1,\n",
    "            \"similarity\": {\n",
    "             \"custom_bm25\": {\n",
    "                \"type\": \"BM25\",\n",
    "                \"b\": 0,\n",
    "                \"k1\" : 0.9\n",
    "                 \n",
    "             }\n",
    "          }\n",
    "                \n",
    "            }\n",
    "    ,\n",
    "    \n",
    "    'mappings': {\n",
    "        \n",
    "            \"properties\": {\n",
    "                \"title\": {\n",
    "                    \"type\": \"text\",\n",
    "                    \"analyzer\": \"english\"\n",
    "                },\n",
    "                \"genres\":{\n",
    "                    \"type\": 'text',\n",
    "                    \"analyzer\":\"english\"\n",
    "                },\n",
    "            \n",
    "             \"rating\":{\n",
    "                    \"type\": \"short\"\n",
    "                \n",
    "                    \n",
    "             },\n",
    "                          \n",
    "          \n",
    "             \"user_rating\":{\n",
    "                    \"type\": \"short\"\n",
    "                    \n",
    "               } \n",
    "            \n",
    "            }\n",
    "        \n",
    "        \n",
    "           }\n",
    "    \n",
    "} "
   ]
  },
  {
   "cell_type": "code",
   "execution_count": 11,
   "metadata": {},
   "outputs": [],
   "source": [
    "my=es.indices.create(index=\"df8\",ignore=[400,404],body=settings)"
   ]
  },
  {
   "cell_type": "code",
   "execution_count": 12,
   "metadata": {},
   "outputs": [
    {
     "data": {
      "text/plain": [
       "{'error': {'root_cause': [{'type': 'resource_already_exists_exception',\n",
       "    'reason': 'index [df8/td1cOtVqSn-_sjxU4ohh9g] already exists',\n",
       "    'index_uuid': 'td1cOtVqSn-_sjxU4ohh9g',\n",
       "    'index': 'df8'}],\n",
       "  'type': 'resource_already_exists_exception',\n",
       "  'reason': 'index [df8/td1cOtVqSn-_sjxU4ohh9g] already exists',\n",
       "  'index_uuid': 'td1cOtVqSn-_sjxU4ohh9g',\n",
       "  'index': 'df8'},\n",
       " 'status': 400}"
      ]
     },
     "execution_count": 12,
     "metadata": {},
     "output_type": "execute_result"
    }
   ],
   "source": [
    "my"
   ]
  },
  {
   "cell_type": "markdown",
   "metadata": {},
   "source": [
    "# Insert into Elasticsearch"
   ]
  },
  {
   "cell_type": "code",
   "execution_count": 33,
   "metadata": {},
   "outputs": [
    {
     "name": "stdout",
     "output_type": "stream",
     "text": [
      "Working\n"
     ]
    }
   ],
   "source": [
    "try:\n",
    "    res=helpers.bulk(es,generator2(df8))\n",
    "    print(\"Working\")\n",
    "except Exception as e:\n",
    "    print(\"Done\")"
   ]
  },
  {
   "cell_type": "code",
   "execution_count": 17,
   "metadata": {},
   "outputs": [
    {
     "name": "stdout",
     "output_type": "stream",
     "text": [
      "What are you looking for?batman\n"
     ]
    }
   ],
   "source": [
    "user_request=input(\"What are you looking for?\")\n",
    "query_body = {\n",
    "  \"query\": {\n",
    "      \"multi_match\":{\n",
    "          \"query\":user_request,\n",
    "          \"fields\":[\"title\" ,\"genres\"]\n",
    "      }\n",
    "  }\n",
    "}  \n",
    "# Pass the query dictionary to the 'body' parameter of the\n",
    "# client's Search() method, and have it return results:\n",
    "result = es.search(index=\"df8\", body=query_body,size=10000,)"
   ]
  },
  {
   "cell_type": "markdown",
   "metadata": {},
   "source": [
    "# NEW METRIC"
   ]
  },
  {
   "cell_type": "code",
   "execution_count": 26,
   "metadata": {},
   "outputs": [],
   "source": [
    "def metric(BM25,rating,user_rating):\n",
    "        if (user_rating>0 and rating >0 ) :         \n",
    "            return 0.33*(BM25+rating+user_rating)\n",
    "        elif (user_rating==0 or rating ==0 ): \n",
    "            return 0.5*(BM25+rating+user_rating)\n",
    "        else :\n",
    "            return BM25"
   ]
  },
  {
   "cell_type": "code",
   "execution_count": 27,
   "metadata": {},
   "outputs": [
    {
     "name": "stdout",
     "output_type": "stream",
     "text": [
      "total hits: 12 \n",
      "\n",
      "Batman (1966) \n",
      "Action|Adventure|Comedy\n",
      "\n",
      "Batman (1989) \n",
      "Action|Crime|Thriller\n",
      "\n",
      "Batman Begins (2005) \n",
      "Action|Crime|IMAX\n",
      "\n",
      "Batman: Mask of the Phantasm (1993) \n",
      "Animation|Children\n",
      "\n",
      "Batman: The Dark Knight Returns, Part 1 (2012) \n",
      "Action|Animation|Sci-Fi\n",
      "\n",
      "Batman Returns (1992) \n",
      "Action|Crime\n",
      "\n",
      "Batman: The Dark Knight Returns, Part 2 (2013) \n",
      "Action|Animation\n",
      "\n",
      "Batman Forever (1995) \n",
      "Action|Adventure|Comedy|Crime\n",
      "\n",
      "Batman: Under the Red Hood (2010) \n",
      "Action|Animation\n",
      "\n",
      "Batman & Robin (1997) \n",
      "Action|Adventure|Fantasy|Thriller\n",
      "\n",
      "Batman: Year One (2011) \n",
      "Action|Animation|Crime\n",
      "\n",
      "Batman v Superman: Dawn of Justice (2016) \n",
      "Action|Adventure|Fantasy|Sci-Fi\n",
      "\n"
     ]
    }
   ],
   "source": [
    " for i in result[\"hits\"][\"hits\"]:\n",
    "    \n",
    "    BM25_score=i[\"_score\"]*0.5\n",
    "    rating=i[\"_source\"][\"rating\"]\n",
    "    user_rating=i[\"_source\"][\"user_rating\"]\n",
    "    new_metric=metric(BM25_score,rating,user_rating)\n",
    "    i['new_score']=new_metric\n",
    "\n",
    "result[\"hits\"][\"hits\"]=sorted(result[\"hits\"][\"hits\"],key=lambda i:i['new_score'],reverse=True )\n",
    "    \n",
    "print (\"total hits:\", len(result[\"hits\"][\"hits\"]),\"\\n\")\n",
    "for i in result['hits']['hits']:\n",
    "    print(i['_source']['title']+\" \"+\"\\n\"+i['_source']['genres']+\"\\n\")"
   ]
  }
 ],
 "metadata": {
  "kernelspec": {
   "display_name": "Python 3",
   "language": "python",
   "name": "python3"
  },
  "language_info": {
   "codemirror_mode": {
    "name": "ipython",
    "version": 3
   },
   "file_extension": ".py",
   "mimetype": "text/x-python",
   "name": "python",
   "nbconvert_exporter": "python",
   "pygments_lexer": "ipython3",
   "version": "3.8.3"
  }
 },
 "nbformat": 4,
 "nbformat_minor": 4
}
